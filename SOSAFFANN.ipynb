{
 "cells": [
  {
   "cell_type": "code",
   "execution_count": 1,
   "metadata": {},
   "outputs": [],
   "source": [
    "import pandas as pd\n",
    "import numpy as np\n",
    "from sklearn.preprocessing import StandardScaler\n",
    "from sklearn.model_selection import train_test_split\n",
    "\n",
    "\n",
    "data = pd.read_csv(\"output_file.csv\")\n",
    "\n",
    "# Drop unnecessary columns\n",
    "data.drop(['Date', 'Time'], axis=1, inplace=True)\n",
    "\n",
    "# Separate features and target variable\n",
    "X = data.drop('Radiation', axis=1)\n",
    "y = data['Radiation']\n",
    "\n",
    "# Split the data into training and test sets\n",
    "X_train, X_test, y_train, y_test = train_test_split(X, y, test_size=0.2, random_state=42)\n",
    "\n",
    "# Standardize the features\n",
    "scaler = StandardScaler()\n",
    "X_train = scaler.fit_transform(X_train)\n",
    "X_test = scaler.transform(X_test)\n"
   ]
  },
  {
   "cell_type": "code",
   "execution_count": 2,
   "metadata": {},
   "outputs": [],
   "source": [
    "from sklearn.neural_network import MLPRegressor\n",
    "\n",
    "def create_ann():\n",
    "    # Define the neural network structure\n",
    "    ann = MLPRegressor(hidden_layer_sizes=(10, 10), max_iter=200, random_state=42)\n",
    "    return ann\n"
   ]
  },
  {
   "cell_type": "code",
   "execution_count": 3,
   "metadata": {},
   "outputs": [
    {
     "name": "stderr",
     "output_type": "stream",
     "text": [
      "SOSA Training: 100%|██████████| 100/100 [02:02<00:00,  1.22s/it]"
     ]
    },
    {
     "name": "stdout",
     "output_type": "stream",
     "text": [
      "Final MSE: 47316.720591619414\n"
     ]
    },
    {
     "name": "stderr",
     "output_type": "stream",
     "text": [
      "\n"
     ]
    }
   ],
   "source": [
    "import numpy as np\n",
    "from tqdm import tqdm\n",
    "from sklearn.exceptions import ConvergenceWarning\n",
    "import warnings\n",
    "\n",
    "# Suppress convergence warnings\n",
    "warnings.filterwarnings(\"ignore\", category=ConvergenceWarning)\n",
    "\n",
    "# Define SOSA parameters\n",
    "num_spiders = 30\n",
    "max_iterations = 100\n",
    "alpha = 0.1  # Control the movement intensity\n",
    "beta = 0.1   # Control the attraction/repulsion intensity\n",
    "\n",
    "# Initialize spiders (particles)\n",
    "spiders = np.random.uniform(-1, 1, (num_spiders, X_train.shape[1]))\n",
    "\n",
    "# Define the fitness function\n",
    "def fitness_function(spider):\n",
    "    ann = create_ann()\n",
    "    ann.fit(X_train, y_train)\n",
    "    predictions = ann.predict(X_test)\n",
    "    mse = np.mean((predictions - y_test) ** 2)\n",
    "    return mse\n",
    "\n",
    "# Main SOSA loop with progress bar\n",
    "for iteration in tqdm(range(max_iterations), desc=\"SOSA Training\"):\n",
    "    fitness_values = np.array([fitness_function(spider) for spider in spiders])\n",
    "    \n",
    "    # Determine the best and worst fitness values\n",
    "    best_fitness = np.min(fitness_values)\n",
    "    worst_fitness = np.max(fitness_values)\n",
    "    best_spider = spiders[np.argmin(fitness_values)]\n",
    "    \n",
    "    # Update each spider's position\n",
    "    for i in range(num_spiders):\n",
    "        if np.random.rand() < 0.8:  # Simulating social interaction probability\n",
    "            if fitness_values[i] > best_fitness:\n",
    "                direction = best_spider - spiders[i]\n",
    "            else:\n",
    "                random_spider = spiders[np.random.randint(0, num_spiders)]\n",
    "                direction = random_spider - spiders[i]\n",
    "            spiders[i] = spiders[i] + alpha * direction * np.random.rand()\n",
    "        else:  # Simulating random movement\n",
    "            spiders[i] = spiders[i] + beta * (2 * np.random.rand(X_train.shape[1]) - 1)\n",
    "        \n",
    "        # Ensure the spiders' positions are within bounds\n",
    "        spiders[i] = np.clip(spiders[i], -1, 1)\n",
    "\n",
    "# Select the best spider\n",
    "best_spider_idx = np.argmin(fitness_values)\n",
    "best_spider = spiders[best_spider_idx]\n",
    "\n",
    "# Train the final ANN with the best parameters\n",
    "final_ann = create_ann()\n",
    "final_ann.fit(X_train, y_train)\n",
    "\n",
    "# Evaluate the final model\n",
    "final_predictions = final_ann.predict(X_test)\n",
    "final_mse = np.mean((final_predictions - y_test) ** 2)\n",
    "print(\"Final MSE:\", final_mse)\n"
   ]
  },
  {
   "cell_type": "code",
   "execution_count": null,
   "metadata": {},
   "outputs": [],
   "source": []
  }
 ],
 "metadata": {
  "kernelspec": {
   "display_name": "PsycheSail",
   "language": "python",
   "name": "python3"
  },
  "language_info": {
   "codemirror_mode": {
    "name": "ipython",
    "version": 3
   },
   "file_extension": ".py",
   "mimetype": "text/x-python",
   "name": "python",
   "nbconvert_exporter": "python",
   "pygments_lexer": "ipython3",
   "version": "3.10.14"
  }
 },
 "nbformat": 4,
 "nbformat_minor": 2
}
