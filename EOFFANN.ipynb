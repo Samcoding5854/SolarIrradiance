{
 "cells": [
  {
   "cell_type": "code",
   "execution_count": 1,
   "metadata": {},
   "outputs": [],
   "source": [
    "import pandas as pd\n",
    "import numpy as np\n",
    "from sklearn.preprocessing import StandardScaler\n",
    "from sklearn.model_selection import train_test_split\n",
    "\n",
    "\n",
    "data = pd.read_csv(\"SolarPrediction.csv\")\n",
    "\n",
    "# Drop unnecessary columns\n",
    "data.drop(['Date', 'Time'], axis=1, inplace=True)\n",
    "\n",
    "# Separate features and target variable\n",
    "X = data.drop('Radiation', axis=1)\n",
    "y = data['Radiation']\n",
    "\n",
    "# Split the data into training and test sets\n",
    "X_train, X_test, y_train, y_test = train_test_split(X, y, test_size=0.2, random_state=42)\n",
    "\n",
    "# Standardize the features\n",
    "scaler = StandardScaler()\n",
    "X_train = scaler.fit_transform(X_train)\n",
    "X_test = scaler.transform(X_test)\n"
   ]
  },
  {
   "cell_type": "code",
   "execution_count": 2,
   "metadata": {},
   "outputs": [],
   "source": [
    "from sklearn.neural_network import MLPRegressor\n",
    "\n",
    "def create_ann():\n",
    "    # Define the neural network structure\n",
    "    ann = MLPRegressor(hidden_layer_sizes=(10, 10), max_iter=200, random_state=42)\n",
    "    return ann\n"
   ]
  },
  {
   "cell_type": "code",
   "execution_count": 3,
   "metadata": {},
   "outputs": [
    {
     "name": "stderr",
     "output_type": "stream",
     "text": [
      "SOSA Training:   0%|          | 0/100 [00:00<?, ?it/s]"
     ]
    },
    {
     "name": "stderr",
     "output_type": "stream",
     "text": [
      "SOSA Training:   1%|          | 1/100 [02:58<4:54:36, 178.55s/it]"
     ]
    }
   ],
   "source": [
    "import numpy as np\n",
    "from tqdm import tqdm\n",
    "from sklearn.exceptions import ConvergenceWarning\n",
    "import warnings\n",
    "\n",
    "# Suppress convergence warnings\n",
    "warnings.filterwarnings(\"ignore\", category=ConvergenceWarning)\n",
    "\n",
    "# Define EO parameters\n",
    "num_candidates = 30\n",
    "max_iterations = 100\n",
    "alpha = 1.0  # Control parameter for exploration\n",
    "beta = 1.5   # Control parameter for exploitation\n",
    "\n",
    "# Initialize candidates (particles)\n",
    "candidates = np.random.uniform(-1, 1, (num_candidates, X_train.shape[1]))\n",
    "\n",
    "# Define the fitness function\n",
    "def fitness_function(candidate):\n",
    "    ann = create_ann()\n",
    "    ann.fit(X_train, y_train)\n",
    "    predictions = ann.predict(X_test)\n",
    "    mse = np.mean((predictions - y_test) ** 2)\n",
    "    return mse\n",
    "\n",
    "# Main EO loop with progress bar\n",
    "for iteration in tqdm(range(max_iterations), desc=\"EO Training\"):\n",
    "    fitness_values = np.array([fitness_function(candidate) for candidate in candidates])\n",
    "    \n",
    "    # Determine the best candidates (equilibrium pool)\n",
    "    best_indices = np.argsort(fitness_values)[:4]  # Selecting the top 4 candidates for the equilibrium pool\n",
    "    equilibrium_pool = candidates[best_indices]\n",
    "    \n",
    "    # Update each candidate's position\n",
    "    for i in range(num_candidates):\n",
    "        # Randomly select an equilibrium candidate\n",
    "        eq_candidate = equilibrium_pool[np.random.randint(0, equilibrium_pool.shape[0])]\n",
    "        \n",
    "        # Calculate the update using mass balance and energy minimization principles\n",
    "        r1, r2, r3, r4 = np.random.rand(4)\n",
    "        F = r1 * np.sign(r2 - 0.5) * (np.exp(-iteration / max_iterations) - 1)\n",
    "        G = r3 * np.sign(r4 - 0.5) * (eq_candidate - candidates[i])\n",
    "        candidates[i] = eq_candidate + F * (alpha * G + beta * (eq_candidate - candidates[i]))\n",
    "        \n",
    "        # Ensure the candidates' positions are within bounds\n",
    "        candidates[i] = np.clip(candidates[i], -1, 1)\n",
    "\n",
    "# Select the best candidate\n",
    "best_candidate_idx = np.argmin(fitness_values)\n",
    "best_candidate = candidates[best_candidate_idx]\n",
    "\n",
    "# Train the final ANN with the best parameters\n",
    "final_ann = create_ann()\n",
    "final_ann.fit(X_train, y_train)\n",
    "\n",
    "# Evaluate the final model\n",
    "final_predictions = final_ann.predict(X_test)\n",
    "final_mse = np.mean((final_predictions - y_test) ** 2)\n",
    "print(\"Final MSE:\", final_mse)"
   ]
  },
  {
   "cell_type": "code",
   "execution_count": null,
   "metadata": {},
   "outputs": [],
   "source": []
  }
 ],
 "metadata": {
  "kernelspec": {
   "display_name": "PsycheSail",
   "language": "python",
   "name": "python3"
  },
  "language_info": {
   "codemirror_mode": {
    "name": "ipython",
    "version": 3
   },
   "file_extension": ".py",
   "mimetype": "text/x-python",
   "name": "python",
   "nbconvert_exporter": "python",
   "pygments_lexer": "ipython3",
   "version": "3.10.14"
  }
 },
 "nbformat": 4,
 "nbformat_minor": 2
}
