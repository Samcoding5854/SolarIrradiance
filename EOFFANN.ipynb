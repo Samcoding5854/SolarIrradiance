{
 "cells": [
  {
   "cell_type": "code",
   "execution_count": 1,
   "metadata": {},
   "outputs": [],
   "source": [
    "import pandas as pd\n",
    "import numpy as np\n",
    "from sklearn.metrics import mean_squared_error\n",
    "from sklearn.preprocessing import StandardScaler\n",
    "from sklearn.model_selection import train_test_split\n",
    "\n",
    "data = pd.read_csv(\"SolarPrediction.csv\")\n",
    "\n",
    "# Drop unnecessary columns\n",
    "data.drop(['Date', 'Time'], axis=1, inplace=True)\n",
    "\n",
    "# Separate features and target variable\n",
    "X = data.drop('Radiation', axis=1)\n",
    "y = data['Radiation']\n",
    "\n",
    "# Split the data into training and test sets\n",
    "X_train, X_test, y_train, y_test = train_test_split(X, y, test_size=0.2, random_state=42)\n",
    "\n",
    "# Standardize the features\n",
    "scaler = StandardScaler()\n",
    "X_train = scaler.fit_transform(X_train)\n",
    "X_test = scaler.transform(X_test)\n"
   ]
  },
  {
   "cell_type": "code",
   "execution_count": 2,
   "metadata": {},
   "outputs": [],
   "source": [
    "from sklearn.neural_network import MLPRegressor\n",
    "\n",
    "def create_ann():\n",
    "    # Define the neural network structure\n",
    "    ann = MLPRegressor(hidden_layer_sizes=(10, 10), max_iter=200, random_state=42)\n",
    "    return ann\n"
   ]
  },
  {
   "cell_type": "code",
   "execution_count": 3,
   "metadata": {},
   "outputs": [
    {
     "name": "stderr",
     "output_type": "stream",
     "text": [
      "Iterations:   0%|          | 0/100 [00:00<?, ?iteration/s]"
     ]
    },
    {
     "name": "stderr",
     "output_type": "stream",
     "text": [
      "/home/samarth5854/anaconda3/envs/PsycheSail/lib/python3.10/site-packages/sklearn/neural_network/_multilayer_perceptron.py:691: ConvergenceWarning: Stochastic Optimizer: Maximum iterations (200) reached and the optimization hasn't converged yet.\n",
      "  warnings.warn(\n",
      "/home/samarth5854/anaconda3/envs/PsycheSail/lib/python3.10/site-packages/sklearn/neural_network/_multilayer_perceptron.py:691: ConvergenceWarning: Stochastic Optimizer: Maximum iterations (200) reached and the optimization hasn't converged yet.\n",
      "  warnings.warn(\n",
      "/home/samarth5854/anaconda3/envs/PsycheSail/lib/python3.10/site-packages/sklearn/neural_network/_multilayer_perceptron.py:691: ConvergenceWarning: Stochastic Optimizer: Maximum iterations (200) reached and the optimization hasn't converged yet.\n",
      "  warnings.warn(\n",
      "/home/samarth5854/anaconda3/envs/PsycheSail/lib/python3.10/site-packages/sklearn/neural_network/_multilayer_perceptron.py:691: ConvergenceWarning: Stochastic Optimizer: Maximum iterations (200) reached and the optimization hasn't converged yet.\n",
      "  warnings.warn(\n",
      "/home/samarth5854/anaconda3/envs/PsycheSail/lib/python3.10/site-packages/sklearn/neural_network/_multilayer_perceptron.py:691: ConvergenceWarning: Stochastic Optimizer: Maximum iterations (200) reached and the optimization hasn't converged yet.\n",
      "  warnings.warn(\n",
      "/home/samarth5854/anaconda3/envs/PsycheSail/lib/python3.10/site-packages/sklearn/neural_network/_multilayer_perceptron.py:691: ConvergenceWarning: Stochastic Optimizer: Maximum iterations (200) reached and the optimization hasn't converged yet.\n",
      "  warnings.warn(\n",
      "/home/samarth5854/anaconda3/envs/PsycheSail/lib/python3.10/site-packages/sklearn/neural_network/_multilayer_perceptron.py:698: UserWarning: Training interrupted by user.\n",
      "  warnings.warn(\"Training interrupted by user.\")\n",
      "/home/samarth5854/anaconda3/envs/PsycheSail/lib/python3.10/site-packages/sklearn/neural_network/_multilayer_perceptron.py:691: ConvergenceWarning: Stochastic Optimizer: Maximum iterations (200) reached and the optimization hasn't converged yet.\n",
      "  warnings.warn(\n",
      "/home/samarth5854/anaconda3/envs/PsycheSail/lib/python3.10/site-packages/sklearn/neural_network/_multilayer_perceptron.py:691: ConvergenceWarning: Stochastic Optimizer: Maximum iterations (200) reached and the optimization hasn't converged yet.\n",
      "  warnings.warn(\n",
      "/home/samarth5854/anaconda3/envs/PsycheSail/lib/python3.10/site-packages/sklearn/neural_network/_multilayer_perceptron.py:698: UserWarning: Training interrupted by user.\n",
      "  warnings.warn(\"Training interrupted by user.\")\n",
      "/home/samarth5854/anaconda3/envs/PsycheSail/lib/python3.10/site-packages/sklearn/neural_network/_multilayer_perceptron.py:691: ConvergenceWarning: Stochastic Optimizer: Maximum iterations (200) reached and the optimization hasn't converged yet.\n",
      "  warnings.warn(\n"
     ]
    }
   ],
   "source": [
    "import numpy as np\n",
    "from sklearn.metrics import mean_squared_error\n",
    "from tqdm import tqdm\n",
    "import warnings\n",
    "\n",
    "# Suppress convergence warnings\n",
    "warnings.filterwarnings(\"ignore\")\n",
    "\n",
    "\n",
    "# Define EO parameters\n",
    "num_particles = 30\n",
    "max_iterations = 100\n",
    "alpha = 0.5\n",
    "beta = 0.5\n",
    "CP_1 = 1.0\n",
    "LB = -1\n",
    "UB = 1\n",
    "\n",
    "# Initialize particles and concentrations\n",
    "particles = np.random.uniform(LB, UB, (num_particles, X_train.shape[1]))\n",
    "concentrations = np.array([LB + np.random.rand() * (UB - LB) for _ in range(num_particles)])\n",
    "\n",
    "# Define the fitness function\n",
    "def fitness_function(particle):\n",
    "    ann = create_ann()\n",
    "    ann.fit(X_train, y_train)\n",
    "    predictions = ann.predict(X_test)\n",
    "    mse = mean_squared_error(y_test, predictions)\n",
    "    return mse\n",
    "\n",
    "# Main EO loop with tqdm for progress tracking\n",
    "for iteration in tqdm(range(max_iterations), desc='Iterations', unit='iteration'):\n",
    "    fitness_values = []\n",
    "    for i in range(num_particles):\n",
    "        fitness = fitness_function(particles[i])\n",
    "        fitness_values.append(fitness)\n",
    "        \n",
    "    # Sort particles by fitness and select the top ones\n",
    "    sorted_indices = np.argsort(fitness_values)\n",
    "    top_particles = particles[sorted_indices[:4]]\n",
    "    eq_candidate = np.mean(top_particles, axis=0)\n",
    "    \n",
    "    # Update particles towards equilibrium state\n",
    "    for i in range(num_particles):\n",
    "        r1, r2, r3, r4 = np.random.rand(4)\n",
    "        F = CP_1 * np.sign(r2 - 0.5) * (np.exp(-beta * iteration / max_iterations) - 1)\n",
    "        G = r3 * np.sign(r4 - 0.5) * (eq_candidate - particles[i])\n",
    "        particles[i] = eq_candidate + F * (alpha * G + beta * (eq_candidate - particles[i]))\n",
    "\n",
    "# Train the final ANN with the best particle\n",
    "best_particle_idx = np.argmin(fitness_values)\n",
    "best_particle = particles[best_particle_idx]\n",
    "\n",
    "final_ann = create_ann()\n",
    "final_ann.fit(X_train, y_train)\n",
    "\n",
    "# Evaluate the final model\n",
    "final_predictions = final_ann.predict(X_test)\n",
    "final_mse = mean_squared_error(y_test, final_predictions)\n",
    "print(\"Final MSE:\", final_mse)\n"
   ]
  },
  {
   "cell_type": "code",
   "execution_count": null,
   "metadata": {},
   "outputs": [],
   "source": []
  }
 ],
 "metadata": {
  "kernelspec": {
   "display_name": "PsycheSail",
   "language": "python",
   "name": "python3"
  },
  "language_info": {
   "codemirror_mode": {
    "name": "ipython",
    "version": 3
   },
   "file_extension": ".py",
   "mimetype": "text/x-python",
   "name": "python",
   "nbconvert_exporter": "python",
   "pygments_lexer": "ipython3",
   "version": "3.10.14"
  }
 },
 "nbformat": 4,
 "nbformat_minor": 2
}
