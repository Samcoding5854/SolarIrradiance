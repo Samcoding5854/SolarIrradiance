{
 "cells": [
  {
   "cell_type": "code",
   "execution_count": 1,
   "metadata": {},
   "outputs": [],
   "source": [
    "import pandas as pd\n",
    "import numpy as np\n",
    "from sklearn.preprocessing import StandardScaler\n",
    "from sklearn.model_selection import train_test_split\n",
    "\n",
    "data = pd.read_csv(\"output_file.csv\")\n",
    "\n",
    "# Drop unnecessary columns\n",
    "data.drop(['Date', 'Time'], axis=1, inplace=True)\n",
    "\n",
    "# Separate features and target variable\n",
    "X = data.drop('Radiation', axis=1)\n",
    "y = data['Radiation']\n",
    "\n",
    "# Split the data into training and test sets\n",
    "X_train, X_test, y_train, y_test = train_test_split(X, y, test_size=0.2, random_state=42)\n",
    "\n",
    "# Standardize the features\n",
    "scaler = StandardScaler()\n",
    "X_train = scaler.fit_transform(X_train)\n",
    "X_test = scaler.transform(X_test)"
   ]
  },
  {
   "cell_type": "code",
   "execution_count": 2,
   "metadata": {},
   "outputs": [],
   "source": [
    "from sklearn.neural_network import MLPRegressor\n",
    "\n",
    "def create_ann():\n",
    "    # Define the neural network structure\n",
    "    ann = MLPRegressor(hidden_layer_sizes=(10, 10), max_iter=200, random_state=42)\n",
    "    return ann\n"
   ]
  },
  {
   "cell_type": "code",
   "execution_count": 3,
   "metadata": {},
   "outputs": [
    {
     "name": "stderr",
     "output_type": "stream",
     "text": [
      "OIO Training:   1%|          | 1/100 [00:41<1:08:54, 41.76s/it]"
     ]
    },
    {
     "name": "stdout",
     "output_type": "stream",
     "text": [
      "Iteration 1/100, Best MSE: 29930.53422448422\n"
     ]
    },
    {
     "name": "stderr",
     "output_type": "stream",
     "text": [
      "OIO Training:   2%|▏         | 2/100 [03:14<2:55:11, 107.26s/it]"
     ]
    },
    {
     "name": "stdout",
     "output_type": "stream",
     "text": [
      "Iteration 2/100, Best MSE: 33454.59817000285\n"
     ]
    }
   ],
   "source": [
    "import numpy as np\n",
    "from tqdm import tqdm\n",
    "import matplotlib.pyplot as plt\n",
    "from sklearn.exceptions import ConvergenceWarning\n",
    "from sklearn.neural_network import MLPRegressor\n",
    "import warnings\n",
    "\n",
    "# Suppress convergence warnings\n",
    "warnings.filterwarnings(\"ignore\", category=ConvergenceWarning)\n",
    "\n",
    "# Define OIO parameters\n",
    "num_particles = 30\n",
    "max_iterations = 100\n",
    "c1 = 0.1  # Acceleration constant\n",
    "c2 = 0.1  # Damping constant\n",
    "c3 = 0.1  # Step size constant\n",
    "\n",
    "# Initialize particles\n",
    "# Each particle will represent [num_neurons_layer1, num_neurons_layer2, learning_rate]\n",
    "particles = np.random.uniform(0, 1, (num_particles, 3))\n",
    "particles[:, :2] = particles[:, :2] * 100  # Number of neurons in the range [0, 100]\n",
    "\n",
    "# Define the fitness function\n",
    "def fitness_function(particle):\n",
    "    num_neurons_layer1 = int(particle[0])\n",
    "    num_neurons_layer2 = int(particle[1])\n",
    "    learning_rate = particle[2]\n",
    "    \n",
    "    ann = MLPRegressor(hidden_layer_sizes=(num_neurons_layer1, num_neurons_layer2),\n",
    "                       learning_rate_init=learning_rate, max_iter=200, random_state=42)\n",
    "    ann.fit(X_train, y_train)\n",
    "    predictions = ann.predict(X_test)\n",
    "    mse = np.mean((predictions - y_test) ** 2)\n",
    "    return mse\n",
    "\n",
    "# Store MSE values at each iteration\n",
    "mse_progress = []\n",
    "\n",
    "# Main OIO loop with progress bar\n",
    "for iteration in tqdm(range(max_iterations), desc=\"OIO Training\"):\n",
    "    fitness_values = []\n",
    "    for i in range(num_particles):\n",
    "        fitness = fitness_function(particles[i])\n",
    "        fitness_values.append(fitness)\n",
    "        \n",
    "        # Randomly generate a search direction\n",
    "        search_direction = np.random.uniform(-1, 1, particles.shape[1])\n",
    "        \n",
    "        # Update particle position\n",
    "        particles[i] = particles[i] + c1 * search_direction * fitness / (1 + c2 * np.linalg.norm(particles[i]))\n",
    "        \n",
    "        # Bound the particle position\n",
    "        particles[i, :2] = np.clip(particles[i, :2], 1, 100)  # Neurons range [1, 100]\n",
    "        particles[i, 2] = np.clip(particles[i, 2], 0.0001, 1)  # Learning rate range [0.0001, 1]\n",
    "    \n",
    "    # Store the minimum fitness value for the current iteration\n",
    "    mse_progress.append(min(fitness_values))\n",
    "    \n",
    "    # Debugging: Print iteration and current best MSE\n",
    "    print(f\"Iteration {iteration + 1}/{max_iterations}, Best MSE: {mse_progress[-1]}\")\n",
    "\n",
    "# Plot the MSE progress\n",
    "plt.figure(figsize=(10, 6))\n",
    "plt.plot(range(max_iterations), mse_progress, marker='o')\n",
    "plt.title('OIO Training Progress')\n",
    "plt.xlabel('Iteration')\n",
    "plt.ylabel('Mean Squared Error (MSE)')\n",
    "plt.grid(True)\n",
    "plt.show()\n",
    "\n",
    "# Select the best particle\n",
    "best_particle_idx = np.argmin(fitness_values)\n",
    "best_particle = particles[best_particle_idx]\n",
    "\n",
    "# Train the final ANN with the best parameters\n",
    "num_neurons_layer1 = int(best_particle[0])\n",
    "num_neurons_layer2 = int(best_particle[1])\n",
    "learning_rate = best_particle[2]\n",
    "\n",
    "final_ann = MLPRegressor(hidden_layer_sizes=(num_neurons_layer1, num_neurons_layer2),\n",
    "                         learning_rate_init=learning_rate, max_iter=200, random_state=42)\n",
    "final_ann.fit(X_train, y_train)\n",
    "\n",
    "# Evaluate the final model\n",
    "final_predictions = final_ann.predict(X_test)\n",
    "final_mse = np.mean((final_predictions - y_test) ** 2)\n",
    "print(\"Final MSE:\", final_mse)\n"
   ]
  },
  {
   "cell_type": "code",
   "execution_count": null,
   "metadata": {},
   "outputs": [],
   "source": []
  }
 ],
 "metadata": {
  "kernelspec": {
   "display_name": "PsycheSail",
   "language": "python",
   "name": "python3"
  },
  "language_info": {
   "codemirror_mode": {
    "name": "ipython",
    "version": 3
   },
   "file_extension": ".py",
   "mimetype": "text/x-python",
   "name": "python",
   "nbconvert_exporter": "python",
   "pygments_lexer": "ipython3",
   "version": "3.10.14"
  }
 },
 "nbformat": 4,
 "nbformat_minor": 2
}
