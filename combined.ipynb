{
 "cells": [
  {
   "cell_type": "code",
   "execution_count": 8,
   "metadata": {},
   "outputs": [],
   "source": [
    "import pandas as pd\n",
    "import numpy as np\n",
    "from sklearn.preprocessing import StandardScaler\n",
    "from sklearn.model_selection import train_test_split\n",
    "\n",
    "\n",
    "data = pd.read_csv(\"newdata.csv\")\n",
    "\n",
    "# Drop unnecessary columns\n",
    "data.drop(['Date', 'Time'], axis=1, inplace=True)\n",
    "\n",
    "# Separate features and target variable\n",
    "X = data.drop('Radiation', axis=1)\n",
    "y = data['Radiation']\n",
    "\n",
    "# Split the data into training and test sets\n",
    "X_train, X_test, y_train, y_test = train_test_split(X, y, test_size=0.2, random_state=42)\n",
    "\n",
    "# Standardize the features\n",
    "scaler = StandardScaler()\n",
    "X_train = scaler.fit_transform(X_train)\n",
    "X_test = scaler.transform(X_test)\n"
   ]
  },
  {
   "cell_type": "code",
   "execution_count": 9,
   "metadata": {},
   "outputs": [],
   "source": [
    "from sklearn.neural_network import MLPRegressor\n",
    "\n",
    "def create_ann():\n",
    "    # Define the neural network structure\n",
    "    ann = MLPRegressor(hidden_layer_sizes=(10, 10), max_iter=200, random_state=42)\n",
    "    return ann\n"
   ]
  },
  {
   "cell_type": "code",
   "execution_count": 10,
   "metadata": {},
   "outputs": [
    {
     "name": "stderr",
     "output_type": "stream",
     "text": [
      "WDO Training: 100%|██████████| 100/100 [02:18<00:00,  1.39s/it]"
     ]
    },
    {
     "name": "stdout",
     "output_type": "stream",
     "text": [
      "Final MSE: 0.5340799714746756\n"
     ]
    },
    {
     "name": "stderr",
     "output_type": "stream",
     "text": [
      "\n"
     ]
    }
   ],
   "source": [
    "import numpy as np\n",
    "from tqdm import tqdm\n",
    "from sklearn.exceptions import ConvergenceWarning\n",
    "import warnings\n",
    "\n",
    "# Suppress convergence warnings\n",
    "warnings.filterwarnings(\"ignore\", category=ConvergenceWarning)\n",
    "\n",
    "# Define WDO parameters\n",
    "num_particles = 30\n",
    "max_iterations = 100\n",
    "c1 = 0.1  # Pressure Gradient force\n",
    "c2 = 0.1  # Coriolis constant\n",
    "c3 = 0.1  # Friction constant\n",
    "c4 = 0.1  # Gravitational constant\n",
    "V_max = 1  # Maximum velocity\n",
    "\n",
    "# Initialize particles and velocities\n",
    "particles = np.random.uniform(-1, 1, (num_particles, X_train.shape[1]))\n",
    "velocities = np.random.uniform(-1, 1, (num_particles, X_train.shape[1]))\n",
    "\n",
    "# Initialize RMSE array\n",
    "rmse_wdo = []\n",
    "# Define the fitness function\n",
    "# Define the fitness function\n",
    "def fitness_function(particle):\n",
    "    ann = MLPRegressor(hidden_layer_sizes=(10,), max_iter=1000, random_state=42)\n",
    "    ann.fit(X_train, y_train)\n",
    "    predictions = ann.predict(X_test)\n",
    "    mse = np.mean((predictions - y_test) ** 2)\n",
    "    rmse = np.sqrt(mse)\n",
    "    rmse_wdo.append(rmse)  # Record RMSE\n",
    "    return rmse\n",
    "\n",
    "\n",
    "# Main WDO loop with progress bar\n",
    "for iteration in tqdm(range(max_iterations), desc=\"WDO Training\"):\n",
    "    fitness_values = []\n",
    "    for i in range(num_particles):\n",
    "        fitness = fitness_function(particles[i])\n",
    "        fitness_values.append(fitness)\n",
    "        \n",
    "        # Update velocities\n",
    "        velocities[i] = velocities[i] + c1 * np.random.rand() * (np.mean(particles, axis=0) - particles[i])\n",
    "        velocities[i] = velocities[i] - c2 * np.random.rand() * velocities[i]\n",
    "        velocities[i] = velocities[i] - c3 * np.sign(velocities[i]) * (velocities[i] ** 2)\n",
    "        velocities[i] = velocities[i] + c4 * np.random.rand() * (particles[i] - np.mean(particles, axis=0))\n",
    "        \n",
    "        # Ensure velocity is within bounds\n",
    "        velocities[i] = np.clip(velocities[i], -V_max, V_max)\n",
    "        \n",
    "        # Update positions\n",
    "        particles[i] = particles[i] + velocities[i]\n",
    "\n",
    "# Select the best particle\n",
    "best_particle_idx = np.argmin(fitness_values)\n",
    "best_particle = particles[best_particle_idx]\n",
    "\n",
    "# Train the final ANN with the best parameters\n",
    "final_ann = create_ann()\n",
    "final_ann.fit(X_train, y_train)\n",
    "\n",
    "# Evaluate the final model\n",
    "final_predictions = final_ann.predict(X_test)\n",
    "final_mse = np.mean((final_predictions - y_test) ** 2)\n",
    "print(\"Final MSE:\", final_mse)\n"
   ]
  },
  {
   "cell_type": "code",
   "execution_count": 11,
   "metadata": {},
   "outputs": [
    {
     "name": "stderr",
     "output_type": "stream",
     "text": [
      "OIO Training: 100%|██████████| 100/100 [02:08<00:00,  1.28s/it]"
     ]
    },
    {
     "name": "stdout",
     "output_type": "stream",
     "text": [
      "Final MSE: 0.5340799714746756\n"
     ]
    },
    {
     "name": "stderr",
     "output_type": "stream",
     "text": [
      "\n"
     ]
    }
   ],
   "source": [
    "import numpy as np\n",
    "from tqdm import tqdm\n",
    "from sklearn.exceptions import ConvergenceWarning\n",
    "import warnings\n",
    "\n",
    "# Suppress convergence warnings\n",
    "warnings.filterwarnings(\"ignore\", category=ConvergenceWarning)\n",
    "\n",
    "# Define OIO parameters\n",
    "num_particles = 30\n",
    "max_iterations = 100\n",
    "c1 = 0.1  # Acceleration constant\n",
    "c2 = 0.1  # Damping constant\n",
    "c3 = 0.1  # Step size constant\n",
    "\n",
    "# Initialize particles\n",
    "particles = np.random.uniform(-1, 1, (num_particles, X_train.shape[1]))\n",
    "\n",
    "rmse_oio = []\n",
    "\n",
    "# Define the fitness function\n",
    "# Define the fitness function\n",
    "def fitness_function(particle):\n",
    "    ann = MLPRegressor(hidden_layer_sizes=(10,), max_iter=1000, random_state=42)\n",
    "    ann.fit(X_train, y_train)\n",
    "    predictions = ann.predict(X_test)\n",
    "    mse = np.mean((predictions - y_test) ** 2)\n",
    "    rmse = np.sqrt(mse)\n",
    "    rmse_oio.append(rmse)  # Record RMSE\n",
    "    return rmse\n",
    "\n",
    "\n",
    "# Main OIO loop with progress bar\n",
    "for iteration in tqdm(range(max_iterations), desc=\"OIO Training\"):\n",
    "    fitness_values = []\n",
    "    for i in range(num_particles):\n",
    "        fitness = fitness_function(particles[i])\n",
    "        fitness_values.append(fitness)\n",
    "        \n",
    "        # Randomly generate a search direction\n",
    "        search_direction = np.random.uniform(-1, 1, particles.shape[1])\n",
    "        \n",
    "        # Update particle position\n",
    "        particles[i] = particles[i] + c1 * search_direction * fitness / (1 + c2 * np.linalg.norm(particles[i]))\n",
    "        \n",
    "        # Bound the particle position\n",
    "        particles[i] = np.clip(particles[i], -1, 1)\n",
    "\n",
    "# Select the best particle\n",
    "best_particle_idx = np.argmin(fitness_values)\n",
    "best_particle = particles[best_particle_idx]\n",
    "\n",
    "# Train the final ANN with the best parameters\n",
    "final_ann = create_ann()\n",
    "final_ann.fit(X_train, y_train)\n",
    "\n",
    "# Evaluate the final model\n",
    "final_predictions = final_ann.predict(X_test)\n",
    "final_mse = np.mean((final_predictions - y_test) ** 2)\n",
    "print(\"Final MSE:\", final_mse)\n"
   ]
  },
  {
   "cell_type": "code",
   "execution_count": 12,
   "metadata": {},
   "outputs": [
    {
     "name": "stderr",
     "output_type": "stream",
     "text": [
      "SOSA Training: 100%|██████████| 100/100 [02:07<00:00,  1.27s/it]"
     ]
    },
    {
     "name": "stdout",
     "output_type": "stream",
     "text": [
      "Final MSE: 0.5340799714746756\n"
     ]
    },
    {
     "name": "stderr",
     "output_type": "stream",
     "text": [
      "\n"
     ]
    }
   ],
   "source": [
    "import numpy as np\n",
    "from tqdm import tqdm\n",
    "from sklearn.exceptions import ConvergenceWarning\n",
    "import warnings\n",
    "\n",
    "# Suppress convergence warnings\n",
    "warnings.filterwarnings(\"ignore\", category=ConvergenceWarning)\n",
    "\n",
    "# Define SOSA parameters\n",
    "num_spiders = 30\n",
    "max_iterations = 100\n",
    "alpha = 0.1  # Control the movement intensity\n",
    "beta = 0.1   # Control the attraction/repulsion intensity\n",
    "\n",
    "rmse_sosa = []\n",
    " \n",
    "# Initialize spiders (particles)\n",
    "spiders = np.random.uniform(-1, 1, (num_spiders, X_train.shape[1]))\n",
    "\n",
    "# Define the fitness function\n",
    "# Define the fitness function\n",
    "def fitness_function(particle):\n",
    "    ann = MLPRegressor(hidden_layer_sizes=(10,), max_iter=1000, random_state=42)\n",
    "    ann.fit(X_train, y_train)\n",
    "    predictions = ann.predict(X_test)\n",
    "    mse = np.mean((predictions - y_test) ** 2)\n",
    "    rmse = np.sqrt(mse)\n",
    "    rmse_sosa.append(rmse)  # Record RMSE\n",
    "    return rmse\n",
    "\n",
    "\n",
    "# Main SOSA loop with progress bar\n",
    "for iteration in tqdm(range(max_iterations), desc=\"SOSA Training\"):\n",
    "    fitness_values = np.array([fitness_function(spider) for spider in spiders])\n",
    "    \n",
    "    # Determine the best and worst fitness values\n",
    "    best_fitness = np.min(fitness_values)\n",
    "    worst_fitness = np.max(fitness_values)\n",
    "    best_spider = spiders[np.argmin(fitness_values)]\n",
    "    \n",
    "    # Update each spider's position\n",
    "    for i in range(num_spiders):\n",
    "        if np.random.rand() < 0.8:  # Simulating social interaction probability\n",
    "            if fitness_values[i] > best_fitness:\n",
    "                direction = best_spider - spiders[i]\n",
    "            else:\n",
    "                random_spider = spiders[np.random.randint(0, num_spiders)]\n",
    "                direction = random_spider - spiders[i]\n",
    "            spiders[i] = spiders[i] + alpha * direction * np.random.rand()\n",
    "        else:  # Simulating random movement\n",
    "            spiders[i] = spiders[i] + beta * (2 * np.random.rand(X_train.shape[1]) - 1)\n",
    "        \n",
    "        # Ensure the spiders' positions are within bounds\n",
    "        spiders[i] = np.clip(spiders[i], -1, 1)\n",
    "\n",
    "# Select the best spider\n",
    "best_spider_idx = np.argmin(fitness_values)\n",
    "best_spider = spiders[best_spider_idx]\n",
    "\n",
    "# Train the final ANN with the best parameters\n",
    "final_ann = create_ann()\n",
    "final_ann.fit(X_train, y_train)\n",
    "\n",
    "# Evaluate the final model\n",
    "final_predictions = final_ann.predict(X_test)\n",
    "final_mse = np.mean((final_predictions - y_test) ** 2)\n",
    "print(\"Final MSE:\", final_mse)\n"
   ]
  },
  {
   "cell_type": "code",
   "execution_count": 13,
   "metadata": {},
   "outputs": [
    {
     "name": "stderr",
     "output_type": "stream",
     "text": [
      "Iterations: 100%|██████████| 100/100 [02:08<00:00,  1.28s/iteration]"
     ]
    },
    {
     "name": "stdout",
     "output_type": "stream",
     "text": [
      "Final MSE: 0.5340799714746756\n"
     ]
    },
    {
     "name": "stderr",
     "output_type": "stream",
     "text": [
      "\n"
     ]
    }
   ],
   "source": [
    "import numpy as np\n",
    "from sklearn.metrics import mean_squared_error\n",
    "from tqdm import tqdm\n",
    "import warnings\n",
    "\n",
    "# Suppress convergence warnings\n",
    "warnings.filterwarnings(\"ignore\")\n",
    "\n",
    "\n",
    "# Define EO parameters\n",
    "num_particles = 30\n",
    "max_iterations = 100\n",
    "alpha = 0.5\n",
    "beta = 0.5\n",
    "CP_1 = 1.0\n",
    "LB = -1\n",
    "UB = 1\n",
    "\n",
    "rmse_eo = []\n",
    "\n",
    "\n",
    "# Initialize particles and concentrations\n",
    "particles = np.random.uniform(LB, UB, (num_particles, X_train.shape[1]))\n",
    "concentrations = np.array([LB + np.random.rand() * (UB - LB) for _ in range(num_particles)])\n",
    "\n",
    "# Define the fitness function\n",
    "# Define the fitness function\n",
    "def fitness_function(particle):\n",
    "    ann = MLPRegressor(hidden_layer_sizes=(10,), max_iter=1000, random_state=42)\n",
    "    ann.fit(X_train, y_train)\n",
    "    predictions = ann.predict(X_test)\n",
    "    mse = np.mean((predictions - y_test) ** 2)\n",
    "    rmse = np.sqrt(mse)\n",
    "    rmse_eo.append(rmse)  # Record RMSE\n",
    "    return rmse\n",
    "\n",
    "\n",
    "# Main EO loop with tqdm for progress tracking\n",
    "for iteration in tqdm(range(max_iterations), desc='Iterations', unit='iteration'):\n",
    "    fitness_values = []\n",
    "    for i in range(num_particles):\n",
    "        fitness = fitness_function(particles[i])\n",
    "        fitness_values.append(fitness)\n",
    "        \n",
    "    # Sort particles by fitness and select the top ones\n",
    "    sorted_indices = np.argsort(fitness_values)\n",
    "    top_particles = particles[sorted_indices[:4]]\n",
    "    eq_candidate = np.mean(top_particles, axis=0)\n",
    "    \n",
    "    # Update particles towards equilibrium state\n",
    "    for i in range(num_particles):\n",
    "        r1, r2, r3, r4 = np.random.rand(4)\n",
    "        F = CP_1 * np.sign(r2 - 0.5) * (np.exp(-beta * iteration / max_iterations) - 1)\n",
    "        G = r3 * np.sign(r4 - 0.5) * (eq_candidate - particles[i])\n",
    "        particles[i] = eq_candidate + F * (alpha * G + beta * (eq_candidate - particles[i]))\n",
    "\n",
    "# Train the final ANN with the best particle\n",
    "best_particle_idx = np.argmin(fitness_values)\n",
    "best_particle = particles[best_particle_idx]\n",
    "\n",
    "final_ann = create_ann()\n",
    "final_ann.fit(X_train, y_train)\n",
    "\n",
    "# Evaluate the final model\n",
    "final_predictions = final_ann.predict(X_test)\n",
    "final_mse = mean_squared_error(y_test, final_predictions)\n",
    "print(\"Final MSE:\", final_mse)\n"
   ]
  },
  {
   "cell_type": "code",
   "execution_count": 14,
   "metadata": {},
   "outputs": [
    {
     "data": {
      "image/png": "[encoded data removed]",
      "text/plain": [
       "<Figure size 1000x600 with 1 Axes>"
      ]
     },
     "metadata": {},
     "output_type": "display_data"
    }
   ],
   "source": [
    "import matplotlib.pyplot as plt\n",
    "\n",
    "# Plotting RMSE for all four optimizations\n",
    "plt.figure(figsize=(10, 6))\n",
    "\n",
    "# WDO\n",
    "plt.plot(range(1, len(rmse_wdo) + 1), rmse_wdo, label='WDO')\n",
    "\n",
    "# OIO\n",
    "plt.plot(range(1, len(rmse_oio) + 1), rmse_oio, label='OIO')\n",
    "\n",
    "# SOSA\n",
    "plt.plot(range(1, len(rmse_sosa) + 1), rmse_sosa, label='SOSA')\n",
    "\n",
    "# EO\n",
    "plt.plot(range(1, len(rmse_eo) + 1), rmse_eo, label='EO')\n",
    "\n",
    "# Add labels and title\n",
    "plt.xlabel('Iteration')\n",
    "plt.ylabel('RMSE')\n",
    "plt.title('Comparison of Optimization Algorithms')\n",
    "plt.legend()\n",
    "\n",
    "# Show plot\n",
    "plt.grid(True)\n",
    "plt.show()\n"
   ]
  }
 ],
 "metadata": {
  "kernelspec": {
   "display_name": "PsycheSail",
   "language": "python",
   "name": "python3"
  },
  "language_info": {
   "codemirror_mode": {
    "name": "ipython",
    "version": 3
   },
   "file_extension": ".py",
   "mimetype": "text/x-python",
   "name": "python",
   "nbconvert_exporter": "python",
   "pygments_lexer": "ipython3",
   "version": "3.10.14"
  }
 },
 "nbformat": 4,
 "nbformat_minor": 2
}
